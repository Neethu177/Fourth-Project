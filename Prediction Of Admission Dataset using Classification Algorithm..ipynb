{
 "cells": [
  {
   "cell_type": "code",
   "execution_count": 1,
   "id": "4b1e1f9b",
   "metadata": {},
   "outputs": [],
   "source": [
    "import pandas as pd\n",
    "import numpy as np\n",
    "import seaborn as sns"
   ]
  },
  {
   "cell_type": "code",
   "execution_count": 2,
   "id": "9017cab4",
   "metadata": {},
   "outputs": [
    {
     "data": {
      "text/html": [
       "<div>\n",
       "<style scoped>\n",
       "    .dataframe tbody tr th:only-of-type {\n",
       "        vertical-align: middle;\n",
       "    }\n",
       "\n",
       "    .dataframe tbody tr th {\n",
       "        vertical-align: top;\n",
       "    }\n",
       "\n",
       "    .dataframe thead th {\n",
       "        text-align: right;\n",
       "    }\n",
       "</style>\n",
       "<table border=\"1\" class=\"dataframe\">\n",
       "  <thead>\n",
       "    <tr style=\"text-align: right;\">\n",
       "      <th></th>\n",
       "      <th>pre_score</th>\n",
       "      <th>Age_in_years</th>\n",
       "      <th>Percentage_in_10_Class</th>\n",
       "      <th>Percentage_in_12_Class</th>\n",
       "      <th>Percentage_in_Under_Graduate</th>\n",
       "      <th>percentage_MBA</th>\n",
       "      <th>post_score</th>\n",
       "      <th>Gender</th>\n",
       "      <th>STATE</th>\n",
       "      <th>Previous_Degree</th>\n",
       "      <th>Marital_status</th>\n",
       "      <th>Place_you_belong_to</th>\n",
       "      <th>perceived#Job#Skill</th>\n",
       "      <th>Specialization</th>\n",
       "    </tr>\n",
       "  </thead>\n",
       "  <tbody>\n",
       "    <tr>\n",
       "      <th>0</th>\n",
       "      <td>75.000000</td>\n",
       "      <td>22</td>\n",
       "      <td>71.0</td>\n",
       "      <td>74.8</td>\n",
       "      <td>72.00</td>\n",
       "      <td>61.00</td>\n",
       "      <td>83.333333</td>\n",
       "      <td>Male</td>\n",
       "      <td>Central Zone</td>\n",
       "      <td>Engineering</td>\n",
       "      <td>Single</td>\n",
       "      <td>Urban</td>\n",
       "      <td>prefered skills</td>\n",
       "      <td>Marketing</td>\n",
       "    </tr>\n",
       "    <tr>\n",
       "      <th>1</th>\n",
       "      <td>71.666667</td>\n",
       "      <td>25</td>\n",
       "      <td>77.6</td>\n",
       "      <td>82.6</td>\n",
       "      <td>76.90</td>\n",
       "      <td>66.85</td>\n",
       "      <td>76.666667</td>\n",
       "      <td>Male</td>\n",
       "      <td>Central Zone</td>\n",
       "      <td>Engineering</td>\n",
       "      <td>Single</td>\n",
       "      <td>Semi Urban</td>\n",
       "      <td>prefered skills</td>\n",
       "      <td>LOS</td>\n",
       "    </tr>\n",
       "    <tr>\n",
       "      <th>2</th>\n",
       "      <td>76.666667</td>\n",
       "      <td>26</td>\n",
       "      <td>93.2</td>\n",
       "      <td>83.8</td>\n",
       "      <td>77.00</td>\n",
       "      <td>74.97</td>\n",
       "      <td>75.000000</td>\n",
       "      <td>Female</td>\n",
       "      <td>Central Zone</td>\n",
       "      <td>Engineering</td>\n",
       "      <td>Single</td>\n",
       "      <td>Urban</td>\n",
       "      <td>desired skills</td>\n",
       "      <td>Finance</td>\n",
       "    </tr>\n",
       "    <tr>\n",
       "      <th>3</th>\n",
       "      <td>66.666667</td>\n",
       "      <td>22</td>\n",
       "      <td>91.2</td>\n",
       "      <td>80.0</td>\n",
       "      <td>67.00</td>\n",
       "      <td>68.30</td>\n",
       "      <td>60.000000</td>\n",
       "      <td>Male</td>\n",
       "      <td>Central Zone</td>\n",
       "      <td>Commerce</td>\n",
       "      <td>Single</td>\n",
       "      <td>Semi Urban</td>\n",
       "      <td>prefered skills</td>\n",
       "      <td>Finance</td>\n",
       "    </tr>\n",
       "    <tr>\n",
       "      <th>4</th>\n",
       "      <td>71.666667</td>\n",
       "      <td>24</td>\n",
       "      <td>79.8</td>\n",
       "      <td>61.6</td>\n",
       "      <td>60.33</td>\n",
       "      <td>69.28</td>\n",
       "      <td>76.666667</td>\n",
       "      <td>Female</td>\n",
       "      <td>Central Zone</td>\n",
       "      <td>Engineering</td>\n",
       "      <td>Single</td>\n",
       "      <td>Urban</td>\n",
       "      <td>prefered skills</td>\n",
       "      <td>Finance</td>\n",
       "    </tr>\n",
       "    <tr>\n",
       "      <th>...</th>\n",
       "      <td>...</td>\n",
       "      <td>...</td>\n",
       "      <td>...</td>\n",
       "      <td>...</td>\n",
       "      <td>...</td>\n",
       "      <td>...</td>\n",
       "      <td>...</td>\n",
       "      <td>...</td>\n",
       "      <td>...</td>\n",
       "      <td>...</td>\n",
       "      <td>...</td>\n",
       "      <td>...</td>\n",
       "      <td>...</td>\n",
       "      <td>...</td>\n",
       "    </tr>\n",
       "    <tr>\n",
       "      <th>468</th>\n",
       "      <td>71.666667</td>\n",
       "      <td>22</td>\n",
       "      <td>95.0</td>\n",
       "      <td>78.6</td>\n",
       "      <td>75.43</td>\n",
       "      <td>68.54</td>\n",
       "      <td>88.333333</td>\n",
       "      <td>Male</td>\n",
       "      <td>Central Zone</td>\n",
       "      <td>Engineering</td>\n",
       "      <td>Single</td>\n",
       "      <td>Urban</td>\n",
       "      <td>prefered skills</td>\n",
       "      <td>Marketing</td>\n",
       "    </tr>\n",
       "    <tr>\n",
       "      <th>469</th>\n",
       "      <td>71.666667</td>\n",
       "      <td>25</td>\n",
       "      <td>77.6</td>\n",
       "      <td>82.6</td>\n",
       "      <td>76.90</td>\n",
       "      <td>66.85</td>\n",
       "      <td>76.666667</td>\n",
       "      <td>Male</td>\n",
       "      <td>Central Zone</td>\n",
       "      <td>Engineering</td>\n",
       "      <td>Single</td>\n",
       "      <td>Semi Urban</td>\n",
       "      <td>prefered skills</td>\n",
       "      <td>LOS</td>\n",
       "    </tr>\n",
       "    <tr>\n",
       "      <th>470</th>\n",
       "      <td>76.666667</td>\n",
       "      <td>26</td>\n",
       "      <td>93.2</td>\n",
       "      <td>83.8</td>\n",
       "      <td>77.00</td>\n",
       "      <td>74.97</td>\n",
       "      <td>75.000000</td>\n",
       "      <td>Female</td>\n",
       "      <td>Central Zone</td>\n",
       "      <td>Engineering</td>\n",
       "      <td>Single</td>\n",
       "      <td>Urban</td>\n",
       "      <td>desired skills</td>\n",
       "      <td>Finance</td>\n",
       "    </tr>\n",
       "    <tr>\n",
       "      <th>471</th>\n",
       "      <td>66.666667</td>\n",
       "      <td>22</td>\n",
       "      <td>91.2</td>\n",
       "      <td>80.0</td>\n",
       "      <td>67.00</td>\n",
       "      <td>68.30</td>\n",
       "      <td>60.000000</td>\n",
       "      <td>Male</td>\n",
       "      <td>Central Zone</td>\n",
       "      <td>Commerce</td>\n",
       "      <td>Single</td>\n",
       "      <td>Semi Urban</td>\n",
       "      <td>prefered skills</td>\n",
       "      <td>Finance</td>\n",
       "    </tr>\n",
       "    <tr>\n",
       "      <th>472</th>\n",
       "      <td>71.666667</td>\n",
       "      <td>24</td>\n",
       "      <td>79.8</td>\n",
       "      <td>61.6</td>\n",
       "      <td>60.33</td>\n",
       "      <td>69.28</td>\n",
       "      <td>76.666667</td>\n",
       "      <td>Female</td>\n",
       "      <td>Central Zone</td>\n",
       "      <td>Engineering</td>\n",
       "      <td>Single</td>\n",
       "      <td>Urban</td>\n",
       "      <td>prefered skills</td>\n",
       "      <td>Finance</td>\n",
       "    </tr>\n",
       "  </tbody>\n",
       "</table>\n",
       "<p>473 rows × 14 columns</p>\n",
       "</div>"
      ],
      "text/plain": [
       "     pre_score  Age_in_years  Percentage_in_10_Class  Percentage_in_12_Class  \\\n",
       "0    75.000000            22                    71.0                    74.8   \n",
       "1    71.666667            25                    77.6                    82.6   \n",
       "2    76.666667            26                    93.2                    83.8   \n",
       "3    66.666667            22                    91.2                    80.0   \n",
       "4    71.666667            24                    79.8                    61.6   \n",
       "..         ...           ...                     ...                     ...   \n",
       "468  71.666667            22                    95.0                    78.6   \n",
       "469  71.666667            25                    77.6                    82.6   \n",
       "470  76.666667            26                    93.2                    83.8   \n",
       "471  66.666667            22                    91.2                    80.0   \n",
       "472  71.666667            24                    79.8                    61.6   \n",
       "\n",
       "     Percentage_in_Under_Graduate  percentage_MBA  post_score  Gender  \\\n",
       "0                           72.00           61.00   83.333333    Male   \n",
       "1                           76.90           66.85   76.666667    Male   \n",
       "2                           77.00           74.97   75.000000  Female   \n",
       "3                           67.00           68.30   60.000000    Male   \n",
       "4                           60.33           69.28   76.666667  Female   \n",
       "..                            ...             ...         ...     ...   \n",
       "468                         75.43           68.54   88.333333    Male   \n",
       "469                         76.90           66.85   76.666667    Male   \n",
       "470                         77.00           74.97   75.000000  Female   \n",
       "471                         67.00           68.30   60.000000    Male   \n",
       "472                         60.33           69.28   76.666667  Female   \n",
       "\n",
       "            STATE Previous_Degree Marital_status Place_you_belong_to  \\\n",
       "0    Central Zone     Engineering         Single               Urban   \n",
       "1    Central Zone     Engineering         Single          Semi Urban   \n",
       "2    Central Zone     Engineering         Single               Urban   \n",
       "3    Central Zone        Commerce         Single          Semi Urban   \n",
       "4    Central Zone     Engineering         Single               Urban   \n",
       "..            ...             ...            ...                 ...   \n",
       "468  Central Zone     Engineering         Single               Urban   \n",
       "469  Central Zone     Engineering         Single          Semi Urban   \n",
       "470  Central Zone     Engineering         Single               Urban   \n",
       "471  Central Zone        Commerce         Single          Semi Urban   \n",
       "472  Central Zone     Engineering         Single               Urban   \n",
       "\n",
       "    perceived#Job#Skill Specialization  \n",
       "0       prefered skills      Marketing  \n",
       "1       prefered skills            LOS  \n",
       "2        desired skills        Finance  \n",
       "3       prefered skills        Finance  \n",
       "4       prefered skills        Finance  \n",
       "..                  ...            ...  \n",
       "468     prefered skills      Marketing  \n",
       "469     prefered skills            LOS  \n",
       "470      desired skills        Finance  \n",
       "471     prefered skills        Finance  \n",
       "472     prefered skills        Finance  \n",
       "\n",
       "[473 rows x 14 columns]"
      ]
     },
     "execution_count": 2,
     "metadata": {},
     "output_type": "execute_result"
    }
   ],
   "source": [
    "import pandas as pd\n",
    "r=pd.read_csv(\"MBA_ADMISSIONS.csv\") \n",
    "r"
   ]
  },
  {
   "cell_type": "code",
   "execution_count": 3,
   "id": "f0f5ea01",
   "metadata": {},
   "outputs": [
    {
     "name": "stdout",
     "output_type": "stream",
     "text": [
      "<class 'pandas.core.frame.DataFrame'>\n",
      "RangeIndex: 473 entries, 0 to 472\n",
      "Data columns (total 14 columns):\n",
      " #   Column                        Non-Null Count  Dtype  \n",
      "---  ------                        --------------  -----  \n",
      " 0   pre_score                     473 non-null    float64\n",
      " 1   Age_in_years                  473 non-null    int64  \n",
      " 2   Percentage_in_10_Class        473 non-null    float64\n",
      " 3   Percentage_in_12_Class        473 non-null    float64\n",
      " 4   Percentage_in_Under_Graduate  473 non-null    float64\n",
      " 5   percentage_MBA                473 non-null    float64\n",
      " 6   post_score                    473 non-null    float64\n",
      " 7   Gender                        473 non-null    object \n",
      " 8   STATE                         473 non-null    object \n",
      " 9   Previous_Degree               473 non-null    object \n",
      " 10  Marital_status                473 non-null    object \n",
      " 11  Place_you_belong_to           473 non-null    object \n",
      " 12  perceived#Job#Skill           473 non-null    object \n",
      " 13  Specialization                473 non-null    object \n",
      "dtypes: float64(6), int64(1), object(7)\n",
      "memory usage: 51.9+ KB\n"
     ]
    }
   ],
   "source": [
    "r.info()"
   ]
  },
  {
   "cell_type": "code",
   "execution_count": 5,
   "id": "074d9cce",
   "metadata": {},
   "outputs": [
    {
     "data": {
      "text/html": [
       "<div>\n",
       "<style scoped>\n",
       "    .dataframe tbody tr th:only-of-type {\n",
       "        vertical-align: middle;\n",
       "    }\n",
       "\n",
       "    .dataframe tbody tr th {\n",
       "        vertical-align: top;\n",
       "    }\n",
       "\n",
       "    .dataframe thead th {\n",
       "        text-align: right;\n",
       "    }\n",
       "</style>\n",
       "<table border=\"1\" class=\"dataframe\">\n",
       "  <thead>\n",
       "    <tr style=\"text-align: right;\">\n",
       "      <th></th>\n",
       "      <th>pre_score</th>\n",
       "      <th>Age_in_years</th>\n",
       "      <th>Percentage_in_10_Class</th>\n",
       "      <th>Percentage_in_12_Class</th>\n",
       "      <th>Percentage_in_Under_Graduate</th>\n",
       "      <th>percentage_MBA</th>\n",
       "      <th>post_score</th>\n",
       "      <th>Specialization</th>\n",
       "    </tr>\n",
       "  </thead>\n",
       "  <tbody>\n",
       "    <tr>\n",
       "      <th>0</th>\n",
       "      <td>75.000000</td>\n",
       "      <td>22</td>\n",
       "      <td>71.0</td>\n",
       "      <td>74.8</td>\n",
       "      <td>72.00</td>\n",
       "      <td>61.00</td>\n",
       "      <td>83.333333</td>\n",
       "      <td>Marketing</td>\n",
       "    </tr>\n",
       "    <tr>\n",
       "      <th>1</th>\n",
       "      <td>71.666667</td>\n",
       "      <td>25</td>\n",
       "      <td>77.6</td>\n",
       "      <td>82.6</td>\n",
       "      <td>76.90</td>\n",
       "      <td>66.85</td>\n",
       "      <td>76.666667</td>\n",
       "      <td>LOS</td>\n",
       "    </tr>\n",
       "    <tr>\n",
       "      <th>2</th>\n",
       "      <td>76.666667</td>\n",
       "      <td>26</td>\n",
       "      <td>93.2</td>\n",
       "      <td>83.8</td>\n",
       "      <td>77.00</td>\n",
       "      <td>74.97</td>\n",
       "      <td>75.000000</td>\n",
       "      <td>Finance</td>\n",
       "    </tr>\n",
       "    <tr>\n",
       "      <th>3</th>\n",
       "      <td>66.666667</td>\n",
       "      <td>22</td>\n",
       "      <td>91.2</td>\n",
       "      <td>80.0</td>\n",
       "      <td>67.00</td>\n",
       "      <td>68.30</td>\n",
       "      <td>60.000000</td>\n",
       "      <td>Finance</td>\n",
       "    </tr>\n",
       "    <tr>\n",
       "      <th>4</th>\n",
       "      <td>71.666667</td>\n",
       "      <td>24</td>\n",
       "      <td>79.8</td>\n",
       "      <td>61.6</td>\n",
       "      <td>60.33</td>\n",
       "      <td>69.28</td>\n",
       "      <td>76.666667</td>\n",
       "      <td>Finance</td>\n",
       "    </tr>\n",
       "    <tr>\n",
       "      <th>...</th>\n",
       "      <td>...</td>\n",
       "      <td>...</td>\n",
       "      <td>...</td>\n",
       "      <td>...</td>\n",
       "      <td>...</td>\n",
       "      <td>...</td>\n",
       "      <td>...</td>\n",
       "      <td>...</td>\n",
       "    </tr>\n",
       "    <tr>\n",
       "      <th>468</th>\n",
       "      <td>71.666667</td>\n",
       "      <td>22</td>\n",
       "      <td>95.0</td>\n",
       "      <td>78.6</td>\n",
       "      <td>75.43</td>\n",
       "      <td>68.54</td>\n",
       "      <td>88.333333</td>\n",
       "      <td>Marketing</td>\n",
       "    </tr>\n",
       "    <tr>\n",
       "      <th>469</th>\n",
       "      <td>71.666667</td>\n",
       "      <td>25</td>\n",
       "      <td>77.6</td>\n",
       "      <td>82.6</td>\n",
       "      <td>76.90</td>\n",
       "      <td>66.85</td>\n",
       "      <td>76.666667</td>\n",
       "      <td>LOS</td>\n",
       "    </tr>\n",
       "    <tr>\n",
       "      <th>470</th>\n",
       "      <td>76.666667</td>\n",
       "      <td>26</td>\n",
       "      <td>93.2</td>\n",
       "      <td>83.8</td>\n",
       "      <td>77.00</td>\n",
       "      <td>74.97</td>\n",
       "      <td>75.000000</td>\n",
       "      <td>Finance</td>\n",
       "    </tr>\n",
       "    <tr>\n",
       "      <th>471</th>\n",
       "      <td>66.666667</td>\n",
       "      <td>22</td>\n",
       "      <td>91.2</td>\n",
       "      <td>80.0</td>\n",
       "      <td>67.00</td>\n",
       "      <td>68.30</td>\n",
       "      <td>60.000000</td>\n",
       "      <td>Finance</td>\n",
       "    </tr>\n",
       "    <tr>\n",
       "      <th>472</th>\n",
       "      <td>71.666667</td>\n",
       "      <td>24</td>\n",
       "      <td>79.8</td>\n",
       "      <td>61.6</td>\n",
       "      <td>60.33</td>\n",
       "      <td>69.28</td>\n",
       "      <td>76.666667</td>\n",
       "      <td>Finance</td>\n",
       "    </tr>\n",
       "  </tbody>\n",
       "</table>\n",
       "<p>473 rows × 8 columns</p>\n",
       "</div>"
      ],
      "text/plain": [
       "     pre_score  Age_in_years  Percentage_in_10_Class  Percentage_in_12_Class  \\\n",
       "0    75.000000            22                    71.0                    74.8   \n",
       "1    71.666667            25                    77.6                    82.6   \n",
       "2    76.666667            26                    93.2                    83.8   \n",
       "3    66.666667            22                    91.2                    80.0   \n",
       "4    71.666667            24                    79.8                    61.6   \n",
       "..         ...           ...                     ...                     ...   \n",
       "468  71.666667            22                    95.0                    78.6   \n",
       "469  71.666667            25                    77.6                    82.6   \n",
       "470  76.666667            26                    93.2                    83.8   \n",
       "471  66.666667            22                    91.2                    80.0   \n",
       "472  71.666667            24                    79.8                    61.6   \n",
       "\n",
       "     Percentage_in_Under_Graduate  percentage_MBA  post_score Specialization  \n",
       "0                           72.00           61.00   83.333333      Marketing  \n",
       "1                           76.90           66.85   76.666667            LOS  \n",
       "2                           77.00           74.97   75.000000        Finance  \n",
       "3                           67.00           68.30   60.000000        Finance  \n",
       "4                           60.33           69.28   76.666667        Finance  \n",
       "..                            ...             ...         ...            ...  \n",
       "468                         75.43           68.54   88.333333      Marketing  \n",
       "469                         76.90           66.85   76.666667            LOS  \n",
       "470                         77.00           74.97   75.000000        Finance  \n",
       "471                         67.00           68.30   60.000000        Finance  \n",
       "472                         60.33           69.28   76.666667        Finance  \n",
       "\n",
       "[473 rows x 8 columns]"
      ]
     },
     "execution_count": 5,
     "metadata": {},
     "output_type": "execute_result"
    }
   ],
   "source": [
    "r=r.drop(['Gender','STATE','Previous_Degree','Marital_status','Place_you_belong_to','perceived#Job#Skill'],axis=1)\n",
    "r"
   ]
  },
  {
   "cell_type": "code",
   "execution_count": 6,
   "id": "c96e5b25",
   "metadata": {},
   "outputs": [],
   "source": [
    "r.dropna(inplace=True)"
   ]
  },
  {
   "cell_type": "code",
   "execution_count": 7,
   "id": "5ef68583",
   "metadata": {},
   "outputs": [
    {
     "data": {
      "text/plain": [
       "pre_score                       0\n",
       "Age_in_years                    0\n",
       "Percentage_in_10_Class          0\n",
       "Percentage_in_12_Class          0\n",
       "Percentage_in_Under_Graduate    0\n",
       "percentage_MBA                  0\n",
       "post_score                      0\n",
       "Specialization                  0\n",
       "dtype: int64"
      ]
     },
     "execution_count": 7,
     "metadata": {},
     "output_type": "execute_result"
    }
   ],
   "source": [
    "r.isnull().sum()"
   ]
  },
  {
   "cell_type": "code",
   "execution_count": 8,
   "id": "4ef019f1",
   "metadata": {},
   "outputs": [],
   "source": [
    "from sklearn.preprocessing import LabelEncoder\n",
    "le=LabelEncoder()"
   ]
  },
  {
   "cell_type": "code",
   "execution_count": 10,
   "id": "7b3389c7",
   "metadata": {},
   "outputs": [
    {
     "data": {
      "text/html": [
       "<div>\n",
       "<style scoped>\n",
       "    .dataframe tbody tr th:only-of-type {\n",
       "        vertical-align: middle;\n",
       "    }\n",
       "\n",
       "    .dataframe tbody tr th {\n",
       "        vertical-align: top;\n",
       "    }\n",
       "\n",
       "    .dataframe thead th {\n",
       "        text-align: right;\n",
       "    }\n",
       "</style>\n",
       "<table border=\"1\" class=\"dataframe\">\n",
       "  <thead>\n",
       "    <tr style=\"text-align: right;\">\n",
       "      <th></th>\n",
       "      <th>pre_score</th>\n",
       "      <th>Age_in_years</th>\n",
       "      <th>Percentage_in_10_Class</th>\n",
       "      <th>Percentage_in_12_Class</th>\n",
       "      <th>Percentage_in_Under_Graduate</th>\n",
       "      <th>percentage_MBA</th>\n",
       "      <th>post_score</th>\n",
       "      <th>Specialization</th>\n",
       "    </tr>\n",
       "  </thead>\n",
       "  <tbody>\n",
       "    <tr>\n",
       "      <th>0</th>\n",
       "      <td>75.000000</td>\n",
       "      <td>22</td>\n",
       "      <td>71.0</td>\n",
       "      <td>74.8</td>\n",
       "      <td>72.00</td>\n",
       "      <td>61.00</td>\n",
       "      <td>83.333333</td>\n",
       "      <td>3</td>\n",
       "    </tr>\n",
       "    <tr>\n",
       "      <th>1</th>\n",
       "      <td>71.666667</td>\n",
       "      <td>25</td>\n",
       "      <td>77.6</td>\n",
       "      <td>82.6</td>\n",
       "      <td>76.90</td>\n",
       "      <td>66.85</td>\n",
       "      <td>76.666667</td>\n",
       "      <td>2</td>\n",
       "    </tr>\n",
       "    <tr>\n",
       "      <th>2</th>\n",
       "      <td>76.666667</td>\n",
       "      <td>26</td>\n",
       "      <td>93.2</td>\n",
       "      <td>83.8</td>\n",
       "      <td>77.00</td>\n",
       "      <td>74.97</td>\n",
       "      <td>75.000000</td>\n",
       "      <td>0</td>\n",
       "    </tr>\n",
       "    <tr>\n",
       "      <th>3</th>\n",
       "      <td>66.666667</td>\n",
       "      <td>22</td>\n",
       "      <td>91.2</td>\n",
       "      <td>80.0</td>\n",
       "      <td>67.00</td>\n",
       "      <td>68.30</td>\n",
       "      <td>60.000000</td>\n",
       "      <td>0</td>\n",
       "    </tr>\n",
       "    <tr>\n",
       "      <th>4</th>\n",
       "      <td>71.666667</td>\n",
       "      <td>24</td>\n",
       "      <td>79.8</td>\n",
       "      <td>61.6</td>\n",
       "      <td>60.33</td>\n",
       "      <td>69.28</td>\n",
       "      <td>76.666667</td>\n",
       "      <td>0</td>\n",
       "    </tr>\n",
       "    <tr>\n",
       "      <th>...</th>\n",
       "      <td>...</td>\n",
       "      <td>...</td>\n",
       "      <td>...</td>\n",
       "      <td>...</td>\n",
       "      <td>...</td>\n",
       "      <td>...</td>\n",
       "      <td>...</td>\n",
       "      <td>...</td>\n",
       "    </tr>\n",
       "    <tr>\n",
       "      <th>468</th>\n",
       "      <td>71.666667</td>\n",
       "      <td>22</td>\n",
       "      <td>95.0</td>\n",
       "      <td>78.6</td>\n",
       "      <td>75.43</td>\n",
       "      <td>68.54</td>\n",
       "      <td>88.333333</td>\n",
       "      <td>3</td>\n",
       "    </tr>\n",
       "    <tr>\n",
       "      <th>469</th>\n",
       "      <td>71.666667</td>\n",
       "      <td>25</td>\n",
       "      <td>77.6</td>\n",
       "      <td>82.6</td>\n",
       "      <td>76.90</td>\n",
       "      <td>66.85</td>\n",
       "      <td>76.666667</td>\n",
       "      <td>2</td>\n",
       "    </tr>\n",
       "    <tr>\n",
       "      <th>470</th>\n",
       "      <td>76.666667</td>\n",
       "      <td>26</td>\n",
       "      <td>93.2</td>\n",
       "      <td>83.8</td>\n",
       "      <td>77.00</td>\n",
       "      <td>74.97</td>\n",
       "      <td>75.000000</td>\n",
       "      <td>0</td>\n",
       "    </tr>\n",
       "    <tr>\n",
       "      <th>471</th>\n",
       "      <td>66.666667</td>\n",
       "      <td>22</td>\n",
       "      <td>91.2</td>\n",
       "      <td>80.0</td>\n",
       "      <td>67.00</td>\n",
       "      <td>68.30</td>\n",
       "      <td>60.000000</td>\n",
       "      <td>0</td>\n",
       "    </tr>\n",
       "    <tr>\n",
       "      <th>472</th>\n",
       "      <td>71.666667</td>\n",
       "      <td>24</td>\n",
       "      <td>79.8</td>\n",
       "      <td>61.6</td>\n",
       "      <td>60.33</td>\n",
       "      <td>69.28</td>\n",
       "      <td>76.666667</td>\n",
       "      <td>0</td>\n",
       "    </tr>\n",
       "  </tbody>\n",
       "</table>\n",
       "<p>473 rows × 8 columns</p>\n",
       "</div>"
      ],
      "text/plain": [
       "     pre_score  Age_in_years  Percentage_in_10_Class  Percentage_in_12_Class  \\\n",
       "0    75.000000            22                    71.0                    74.8   \n",
       "1    71.666667            25                    77.6                    82.6   \n",
       "2    76.666667            26                    93.2                    83.8   \n",
       "3    66.666667            22                    91.2                    80.0   \n",
       "4    71.666667            24                    79.8                    61.6   \n",
       "..         ...           ...                     ...                     ...   \n",
       "468  71.666667            22                    95.0                    78.6   \n",
       "469  71.666667            25                    77.6                    82.6   \n",
       "470  76.666667            26                    93.2                    83.8   \n",
       "471  66.666667            22                    91.2                    80.0   \n",
       "472  71.666667            24                    79.8                    61.6   \n",
       "\n",
       "     Percentage_in_Under_Graduate  percentage_MBA  post_score  Specialization  \n",
       "0                           72.00           61.00   83.333333               3  \n",
       "1                           76.90           66.85   76.666667               2  \n",
       "2                           77.00           74.97   75.000000               0  \n",
       "3                           67.00           68.30   60.000000               0  \n",
       "4                           60.33           69.28   76.666667               0  \n",
       "..                            ...             ...         ...             ...  \n",
       "468                         75.43           68.54   88.333333               3  \n",
       "469                         76.90           66.85   76.666667               2  \n",
       "470                         77.00           74.97   75.000000               0  \n",
       "471                         67.00           68.30   60.000000               0  \n",
       "472                         60.33           69.28   76.666667               0  \n",
       "\n",
       "[473 rows x 8 columns]"
      ]
     },
     "execution_count": 10,
     "metadata": {},
     "output_type": "execute_result"
    }
   ],
   "source": [
    "r[\"Specialization\"]=le.fit_transform (r[\"Specialization\"])\n",
    "r"
   ]
  },
  {
   "cell_type": "code",
   "execution_count": 11,
   "id": "824d28e0",
   "metadata": {},
   "outputs": [
    {
     "data": {
      "text/html": [
       "<div>\n",
       "<style scoped>\n",
       "    .dataframe tbody tr th:only-of-type {\n",
       "        vertical-align: middle;\n",
       "    }\n",
       "\n",
       "    .dataframe tbody tr th {\n",
       "        vertical-align: top;\n",
       "    }\n",
       "\n",
       "    .dataframe thead th {\n",
       "        text-align: right;\n",
       "    }\n",
       "</style>\n",
       "<table border=\"1\" class=\"dataframe\">\n",
       "  <thead>\n",
       "    <tr style=\"text-align: right;\">\n",
       "      <th></th>\n",
       "      <th>pre_score</th>\n",
       "      <th>Age_in_years</th>\n",
       "      <th>Percentage_in_10_Class</th>\n",
       "      <th>Percentage_in_12_Class</th>\n",
       "      <th>Percentage_in_Under_Graduate</th>\n",
       "      <th>percentage_MBA</th>\n",
       "      <th>post_score</th>\n",
       "    </tr>\n",
       "  </thead>\n",
       "  <tbody>\n",
       "    <tr>\n",
       "      <th>0</th>\n",
       "      <td>75.000000</td>\n",
       "      <td>22</td>\n",
       "      <td>71.0</td>\n",
       "      <td>74.8</td>\n",
       "      <td>72.00</td>\n",
       "      <td>61.00</td>\n",
       "      <td>83.333333</td>\n",
       "    </tr>\n",
       "    <tr>\n",
       "      <th>1</th>\n",
       "      <td>71.666667</td>\n",
       "      <td>25</td>\n",
       "      <td>77.6</td>\n",
       "      <td>82.6</td>\n",
       "      <td>76.90</td>\n",
       "      <td>66.85</td>\n",
       "      <td>76.666667</td>\n",
       "    </tr>\n",
       "    <tr>\n",
       "      <th>2</th>\n",
       "      <td>76.666667</td>\n",
       "      <td>26</td>\n",
       "      <td>93.2</td>\n",
       "      <td>83.8</td>\n",
       "      <td>77.00</td>\n",
       "      <td>74.97</td>\n",
       "      <td>75.000000</td>\n",
       "    </tr>\n",
       "    <tr>\n",
       "      <th>3</th>\n",
       "      <td>66.666667</td>\n",
       "      <td>22</td>\n",
       "      <td>91.2</td>\n",
       "      <td>80.0</td>\n",
       "      <td>67.00</td>\n",
       "      <td>68.30</td>\n",
       "      <td>60.000000</td>\n",
       "    </tr>\n",
       "    <tr>\n",
       "      <th>4</th>\n",
       "      <td>71.666667</td>\n",
       "      <td>24</td>\n",
       "      <td>79.8</td>\n",
       "      <td>61.6</td>\n",
       "      <td>60.33</td>\n",
       "      <td>69.28</td>\n",
       "      <td>76.666667</td>\n",
       "    </tr>\n",
       "    <tr>\n",
       "      <th>...</th>\n",
       "      <td>...</td>\n",
       "      <td>...</td>\n",
       "      <td>...</td>\n",
       "      <td>...</td>\n",
       "      <td>...</td>\n",
       "      <td>...</td>\n",
       "      <td>...</td>\n",
       "    </tr>\n",
       "    <tr>\n",
       "      <th>468</th>\n",
       "      <td>71.666667</td>\n",
       "      <td>22</td>\n",
       "      <td>95.0</td>\n",
       "      <td>78.6</td>\n",
       "      <td>75.43</td>\n",
       "      <td>68.54</td>\n",
       "      <td>88.333333</td>\n",
       "    </tr>\n",
       "    <tr>\n",
       "      <th>469</th>\n",
       "      <td>71.666667</td>\n",
       "      <td>25</td>\n",
       "      <td>77.6</td>\n",
       "      <td>82.6</td>\n",
       "      <td>76.90</td>\n",
       "      <td>66.85</td>\n",
       "      <td>76.666667</td>\n",
       "    </tr>\n",
       "    <tr>\n",
       "      <th>470</th>\n",
       "      <td>76.666667</td>\n",
       "      <td>26</td>\n",
       "      <td>93.2</td>\n",
       "      <td>83.8</td>\n",
       "      <td>77.00</td>\n",
       "      <td>74.97</td>\n",
       "      <td>75.000000</td>\n",
       "    </tr>\n",
       "    <tr>\n",
       "      <th>471</th>\n",
       "      <td>66.666667</td>\n",
       "      <td>22</td>\n",
       "      <td>91.2</td>\n",
       "      <td>80.0</td>\n",
       "      <td>67.00</td>\n",
       "      <td>68.30</td>\n",
       "      <td>60.000000</td>\n",
       "    </tr>\n",
       "    <tr>\n",
       "      <th>472</th>\n",
       "      <td>71.666667</td>\n",
       "      <td>24</td>\n",
       "      <td>79.8</td>\n",
       "      <td>61.6</td>\n",
       "      <td>60.33</td>\n",
       "      <td>69.28</td>\n",
       "      <td>76.666667</td>\n",
       "    </tr>\n",
       "  </tbody>\n",
       "</table>\n",
       "<p>473 rows × 7 columns</p>\n",
       "</div>"
      ],
      "text/plain": [
       "     pre_score  Age_in_years  Percentage_in_10_Class  Percentage_in_12_Class  \\\n",
       "0    75.000000            22                    71.0                    74.8   \n",
       "1    71.666667            25                    77.6                    82.6   \n",
       "2    76.666667            26                    93.2                    83.8   \n",
       "3    66.666667            22                    91.2                    80.0   \n",
       "4    71.666667            24                    79.8                    61.6   \n",
       "..         ...           ...                     ...                     ...   \n",
       "468  71.666667            22                    95.0                    78.6   \n",
       "469  71.666667            25                    77.6                    82.6   \n",
       "470  76.666667            26                    93.2                    83.8   \n",
       "471  66.666667            22                    91.2                    80.0   \n",
       "472  71.666667            24                    79.8                    61.6   \n",
       "\n",
       "     Percentage_in_Under_Graduate  percentage_MBA  post_score  \n",
       "0                           72.00           61.00   83.333333  \n",
       "1                           76.90           66.85   76.666667  \n",
       "2                           77.00           74.97   75.000000  \n",
       "3                           67.00           68.30   60.000000  \n",
       "4                           60.33           69.28   76.666667  \n",
       "..                            ...             ...         ...  \n",
       "468                         75.43           68.54   88.333333  \n",
       "469                         76.90           66.85   76.666667  \n",
       "470                         77.00           74.97   75.000000  \n",
       "471                         67.00           68.30   60.000000  \n",
       "472                         60.33           69.28   76.666667  \n",
       "\n",
       "[473 rows x 7 columns]"
      ]
     },
     "execution_count": 11,
     "metadata": {},
     "output_type": "execute_result"
    }
   ],
   "source": [
    "x=r.iloc[:,0:7]\n",
    "x"
   ]
  },
  {
   "cell_type": "code",
   "execution_count": 13,
   "id": "9105c287",
   "metadata": {},
   "outputs": [
    {
     "data": {
      "text/plain": [
       "0      3\n",
       "1      2\n",
       "2      0\n",
       "3      0\n",
       "4      0\n",
       "      ..\n",
       "468    3\n",
       "469    2\n",
       "470    0\n",
       "471    0\n",
       "472    0\n",
       "Name: Specialization, Length: 473, dtype: int32"
      ]
     },
     "execution_count": 13,
     "metadata": {},
     "output_type": "execute_result"
    }
   ],
   "source": [
    "y=r.iloc[:,7]\n",
    "y"
   ]
  },
  {
   "cell_type": "code",
   "execution_count": 14,
   "id": "9ea3455e",
   "metadata": {},
   "outputs": [],
   "source": [
    "from sklearn.model_selection import train_test_split\n",
    "x_train,x_test,y_train,y_test=train_test_split(x,y,test_size=1/3,random_state=0)"
   ]
  },
  {
   "cell_type": "code",
   "execution_count": 15,
   "id": "9a863650",
   "metadata": {},
   "outputs": [],
   "source": [
    "from sklearn.preprocessing import StandardScaler\n",
    "sc=StandardScaler()\n",
    "x_train=sc.fit_transform(x_train)\n",
    "x_test=sc.transform(x_test)\n"
   ]
  },
  {
   "cell_type": "code",
   "execution_count": 16,
   "id": "09ea62c8",
   "metadata": {},
   "outputs": [],
   "source": [
    "from sklearn.neighbors import KNeighborsClassifier\n",
    "KNC=KNeighborsClassifier(n_neighbors=5)"
   ]
  },
  {
   "cell_type": "code",
   "execution_count": 17,
   "id": "02b07d4a",
   "metadata": {},
   "outputs": [
    {
     "data": {
      "text/plain": [
       "KNeighborsClassifier()"
      ]
     },
     "execution_count": 17,
     "metadata": {},
     "output_type": "execute_result"
    }
   ],
   "source": [
    "KNC=KNC.fit(x_train,y_train)\n",
    "KNC"
   ]
  },
  {
   "cell_type": "code",
   "execution_count": 18,
   "id": "55a31e25",
   "metadata": {},
   "outputs": [
    {
     "data": {
      "text/plain": [
       "array([0, 0, 3, 0, 3, 3, 3, 3, 3, 3, 2, 3, 0, 3, 2, 3, 2, 0, 3, 2, 2, 3,\n",
       "       0, 0, 0, 1, 3, 3, 3, 0, 0, 2, 3, 0, 2, 0, 1, 3, 0, 2, 0, 3, 2, 3,\n",
       "       2, 2, 2, 0, 0, 3, 0, 2, 2, 3, 2, 3, 3, 2, 0, 0, 3, 3, 1, 2, 3, 2,\n",
       "       2, 3, 3, 2, 3, 0, 3, 0, 3, 2, 0, 2, 3, 3, 0, 2, 1, 2, 3, 3, 0, 0,\n",
       "       3, 1, 3, 1, 0, 2, 2, 0, 2, 0, 3, 0, 3, 0, 3, 3, 0, 1, 3, 0, 3, 1,\n",
       "       0, 2, 0, 3, 2, 0, 0, 2, 0, 3, 3, 3, 0, 3, 0, 2, 0, 2, 0, 2, 2, 2,\n",
       "       0, 3, 3, 0, 3, 2, 2, 2, 3, 3, 0, 3, 3, 2, 0, 3, 1, 3, 3, 3, 2, 3,\n",
       "       3, 0, 3, 1])"
      ]
     },
     "execution_count": 18,
     "metadata": {},
     "output_type": "execute_result"
    }
   ],
   "source": [
    "y_pred=KNC.predict(x_test)\n",
    "y_pred"
   ]
  },
  {
   "cell_type": "code",
   "execution_count": 19,
   "id": "7137dd0e",
   "metadata": {},
   "outputs": [
    {
     "data": {
      "text/plain": [
       "0.6329113924050633"
      ]
     },
     "execution_count": 19,
     "metadata": {},
     "output_type": "execute_result"
    }
   ],
   "source": [
    "from sklearn import metrics\n",
    "KN=metrics.accuracy_score(y_pred,y_test)\n",
    "KN"
   ]
  },
  {
   "cell_type": "code",
   "execution_count": 20,
   "id": "7613a0a5",
   "metadata": {},
   "outputs": [
    {
     "data": {
      "text/plain": [
       "LogisticRegression(random_state=0)"
      ]
     },
     "execution_count": 20,
     "metadata": {},
     "output_type": "execute_result"
    }
   ],
   "source": [
    "from sklearn.linear_model import LogisticRegression\n",
    "lr=LogisticRegression(random_state=0)\n",
    "lr.fit(x_train,y_train)"
   ]
  },
  {
   "cell_type": "code",
   "execution_count": 21,
   "id": "30713a0a",
   "metadata": {},
   "outputs": [
    {
     "data": {
      "text/plain": [
       "array([2, 0, 3, 3, 0, 3, 0, 3, 3, 3, 0, 1, 3, 3, 3, 3, 0, 3, 3, 2, 2, 3,\n",
       "       0, 3, 3, 0, 3, 0, 3, 0, 2, 0, 3, 3, 2, 3, 0, 3, 0, 2, 0, 0, 0, 3,\n",
       "       3, 2, 2, 0, 3, 3, 0, 3, 2, 3, 2, 0, 1, 2, 3, 3, 2, 3, 3, 2, 3, 0,\n",
       "       3, 3, 3, 3, 2, 0, 3, 0, 0, 2, 0, 3, 2, 3, 3, 3, 3, 0, 3, 0, 0, 3,\n",
       "       3, 3, 3, 3, 3, 2, 0, 0, 2, 0, 3, 0, 3, 0, 3, 3, 0, 0, 2, 3, 3, 0,\n",
       "       3, 2, 3, 3, 2, 3, 3, 2, 3, 3, 3, 3, 0, 3, 0, 0, 0, 2, 3, 2, 2, 0,\n",
       "       3, 3, 3, 3, 3, 0, 2, 0, 3, 3, 3, 0, 3, 2, 3, 3, 3, 0, 3, 3, 2, 3,\n",
       "       3, 0, 3, 0])"
      ]
     },
     "execution_count": 21,
     "metadata": {},
     "output_type": "execute_result"
    }
   ],
   "source": [
    "y_pred=lr.predict(x_test)\n",
    "y_pred"
   ]
  },
  {
   "cell_type": "code",
   "execution_count": 22,
   "id": "19f9e34a",
   "metadata": {},
   "outputs": [
    {
     "data": {
      "text/plain": [
       "0.4873417721518987"
      ]
     },
     "execution_count": 22,
     "metadata": {},
     "output_type": "execute_result"
    }
   ],
   "source": [
    "from sklearn import metrics\n",
    "LR=metrics.accuracy_score(y_test,y_pred)\n",
    "LR"
   ]
  },
  {
   "cell_type": "code",
   "execution_count": 23,
   "id": "1a08a4a0",
   "metadata": {},
   "outputs": [
    {
     "data": {
      "text/plain": [
       "DecisionTreeClassifier()"
      ]
     },
     "execution_count": 23,
     "metadata": {},
     "output_type": "execute_result"
    }
   ],
   "source": [
    "from sklearn.tree import DecisionTreeClassifier\n",
    "dc=DecisionTreeClassifier()\n",
    "dc.fit(x_train,y_train)"
   ]
  },
  {
   "cell_type": "code",
   "execution_count": 24,
   "id": "9ba9a6e6",
   "metadata": {},
   "outputs": [
    {
     "data": {
      "text/plain": [
       "array([2, 0, 3, 1, 3, 2, 2, 2, 3, 1, 0, 0, 0, 0, 3, 0, 2, 0, 2, 2, 2, 3,\n",
       "       3, 0, 0, 2, 3, 2, 3, 0, 0, 2, 1, 0, 2, 0, 1, 3, 0, 2, 0, 2, 1, 3,\n",
       "       2, 3, 2, 3, 0, 3, 0, 2, 3, 3, 3, 3, 0, 3, 0, 2, 0, 3, 3, 2, 0, 2,\n",
       "       2, 3, 3, 3, 0, 0, 3, 1, 3, 2, 0, 2, 0, 1, 0, 2, 3, 3, 3, 2, 3, 0,\n",
       "       3, 3, 3, 1, 0, 0, 2, 1, 2, 0, 3, 0, 0, 0, 3, 3, 0, 1, 2, 0, 3, 1,\n",
       "       0, 3, 0, 1, 2, 0, 0, 2, 1, 3, 2, 3, 2, 3, 0, 2, 1, 2, 0, 3, 2, 0,\n",
       "       0, 2, 3, 1, 3, 0, 2, 2, 0, 3, 1, 3, 3, 2, 1, 3, 3, 3, 0, 1, 2, 3,\n",
       "       0, 2, 2, 1])"
      ]
     },
     "execution_count": 24,
     "metadata": {},
     "output_type": "execute_result"
    }
   ],
   "source": [
    "y_pred=dc.predict(x_test)\n",
    "y_pred"
   ]
  },
  {
   "cell_type": "code",
   "execution_count": 25,
   "id": "7c4b1f63",
   "metadata": {},
   "outputs": [
    {
     "data": {
      "text/plain": [
       "0.8987341772151899"
      ]
     },
     "execution_count": 25,
     "metadata": {},
     "output_type": "execute_result"
    }
   ],
   "source": [
    "from sklearn import metrics\n",
    "DT=metrics.accuracy_score(y_test,y_pred)\n",
    "DT"
   ]
  },
  {
   "cell_type": "code",
   "execution_count": 26,
   "id": "8f32b006",
   "metadata": {},
   "outputs": [
    {
     "data": {
      "text/plain": [
       "array([2, 0, 3, 0, 3, 2, 2, 0, 3, 1, 0, 0, 0, 0, 3, 0, 2, 0, 2, 2, 2, 3,\n",
       "       3, 0, 0, 2, 3, 2, 3, 0, 0, 2, 1, 0, 2, 0, 1, 3, 0, 2, 0, 2, 1, 3,\n",
       "       2, 3, 2, 3, 0, 3, 0, 2, 3, 3, 3, 3, 0, 3, 0, 2, 3, 3, 3, 2, 0, 2,\n",
       "       2, 3, 3, 3, 3, 0, 3, 1, 3, 2, 0, 2, 3, 1, 0, 2, 3, 3, 3, 2, 3, 0,\n",
       "       3, 3, 3, 1, 0, 0, 2, 0, 2, 0, 3, 0, 0, 0, 3, 3, 0, 1, 2, 0, 3, 1,\n",
       "       0, 3, 0, 1, 2, 0, 0, 2, 0, 3, 0, 3, 0, 3, 0, 2, 0, 2, 0, 3, 2, 0,\n",
       "       0, 2, 3, 1, 3, 0, 2, 2, 0, 3, 0, 3, 3, 2, 1, 3, 3, 3, 0, 1, 2, 3,\n",
       "       0, 0, 2, 1])"
      ]
     },
     "execution_count": 26,
     "metadata": {},
     "output_type": "execute_result"
    }
   ],
   "source": [
    "from sklearn.ensemble import RandomForestClassifier\n",
    "lr=RandomForestClassifier(n_estimators=3,random_state=0)\n",
    "lr.fit(x_train,y_train)\n",
    "y_pred=lr.predict(x_test)\n",
    "y_pred"
   ]
  },
  {
   "cell_type": "code",
   "execution_count": 27,
   "id": "12588d4e",
   "metadata": {},
   "outputs": [
    {
     "data": {
      "text/plain": [
       "0.9113924050632911"
      ]
     },
     "execution_count": 27,
     "metadata": {},
     "output_type": "execute_result"
    }
   ],
   "source": [
    "from sklearn import metrics\n",
    "RF=metrics.accuracy_score(y_test,y_pred)\n",
    "RF"
   ]
  },
  {
   "cell_type": "code",
   "execution_count": 28,
   "id": "bb6547bd",
   "metadata": {},
   "outputs": [
    {
     "data": {
      "text/plain": [
       "SVC(kernel='linear')"
      ]
     },
     "execution_count": 28,
     "metadata": {},
     "output_type": "execute_result"
    }
   ],
   "source": [
    "from sklearn.svm import SVC\n",
    "dc=SVC(kernel='linear')\n",
    "dc.fit(x_train,y_train)"
   ]
  },
  {
   "cell_type": "code",
   "execution_count": 29,
   "id": "749f8784",
   "metadata": {},
   "outputs": [
    {
     "data": {
      "text/plain": [
       "array([2, 0, 3, 3, 0, 3, 0, 3, 3, 3, 0, 3, 3, 3, 3, 3, 2, 3, 3, 2, 2, 3,\n",
       "       0, 3, 3, 0, 3, 0, 3, 0, 2, 0, 3, 3, 2, 3, 0, 3, 0, 2, 0, 0, 0, 3,\n",
       "       3, 2, 2, 0, 3, 3, 0, 3, 2, 3, 2, 0, 3, 2, 3, 3, 2, 0, 3, 2, 3, 0,\n",
       "       3, 3, 3, 3, 2, 0, 3, 0, 0, 2, 0, 3, 2, 3, 3, 2, 3, 0, 3, 0, 0, 3,\n",
       "       3, 0, 3, 3, 3, 2, 0, 0, 2, 0, 3, 0, 3, 0, 3, 3, 0, 3, 2, 0, 3, 0,\n",
       "       3, 2, 3, 3, 2, 3, 3, 2, 3, 0, 3, 3, 2, 3, 0, 2, 0, 2, 3, 2, 2, 0,\n",
       "       3, 3, 3, 3, 3, 0, 2, 2, 3, 3, 3, 0, 3, 2, 3, 3, 3, 0, 3, 3, 2, 3,\n",
       "       3, 2, 3, 0])"
      ]
     },
     "execution_count": 29,
     "metadata": {},
     "output_type": "execute_result"
    }
   ],
   "source": [
    "y_pred=dc.predict(x_test)\n",
    "y_pred"
   ]
  },
  {
   "cell_type": "code",
   "execution_count": 30,
   "id": "4731feca",
   "metadata": {},
   "outputs": [
    {
     "data": {
      "text/plain": [
       "0.5"
      ]
     },
     "execution_count": 30,
     "metadata": {},
     "output_type": "execute_result"
    }
   ],
   "source": [
    "from sklearn import metrics\n",
    "SR=metrics.accuracy_score(y_test,y_pred)\n",
    "SR"
   ]
  },
  {
   "cell_type": "code",
   "execution_count": 31,
   "id": "d6865982",
   "metadata": {},
   "outputs": [],
   "source": [
    "from sklearn.naive_bayes import GaussianNB"
   ]
  },
  {
   "cell_type": "code",
   "execution_count": 32,
   "id": "56642522",
   "metadata": {},
   "outputs": [
    {
     "data": {
      "text/plain": [
       "array([2, 0, 3, 1, 3, 3, 1, 3, 3, 3, 0, 1, 3, 3, 3, 3, 2, 3, 3, 2, 2, 3,\n",
       "       3, 1, 3, 2, 3, 1, 1, 0, 2, 0, 1, 3, 2, 0, 3, 3, 0, 2, 0, 3, 0, 1,\n",
       "       0, 2, 2, 3, 0, 3, 0, 0, 2, 3, 2, 3, 1, 2, 0, 0, 2, 0, 1, 2, 3, 0,\n",
       "       0, 3, 3, 3, 2, 0, 3, 0, 3, 2, 0, 0, 2, 1, 3, 3, 0, 0, 3, 1, 2, 0,\n",
       "       1, 1, 3, 1, 3, 2, 0, 0, 2, 0, 3, 0, 3, 1, 3, 1, 0, 1, 2, 3, 3, 1,\n",
       "       0, 0, 1, 3, 2, 3, 3, 2, 1, 0, 3, 3, 0, 3, 2, 2, 0, 2, 1, 2, 2, 1,\n",
       "       3, 3, 3, 1, 1, 0, 2, 0, 3, 1, 1, 0, 3, 2, 1, 3, 1, 3, 3, 1, 2, 3,\n",
       "       3, 0, 3, 3])"
      ]
     },
     "execution_count": 32,
     "metadata": {},
     "output_type": "execute_result"
    }
   ],
   "source": [
    "from sklearn.naive_bayes import GaussianNB\n",
    "GN=GaussianNB()\n",
    "GN.fit(x_train,y_train)\n",
    "y_pred=GN.predict(x_test)\n",
    "y_pred"
   ]
  },
  {
   "cell_type": "code",
   "execution_count": 33,
   "id": "183685c5",
   "metadata": {},
   "outputs": [
    {
     "data": {
      "text/plain": [
       "0.5253164556962026"
      ]
     },
     "execution_count": 33,
     "metadata": {},
     "output_type": "execute_result"
    }
   ],
   "source": [
    "from sklearn import metrics\n",
    "NB=metrics.accuracy_score(y_test,y_pred)\n",
    "NB"
   ]
  },
  {
   "cell_type": "code",
   "execution_count": 34,
   "id": "63e48044",
   "metadata": {},
   "outputs": [
    {
     "data": {
      "text/html": [
       "<div>\n",
       "<style scoped>\n",
       "    .dataframe tbody tr th:only-of-type {\n",
       "        vertical-align: middle;\n",
       "    }\n",
       "\n",
       "    .dataframe tbody tr th {\n",
       "        vertical-align: top;\n",
       "    }\n",
       "\n",
       "    .dataframe thead th {\n",
       "        text-align: right;\n",
       "    }\n",
       "</style>\n",
       "<table border=\"1\" class=\"dataframe\">\n",
       "  <thead>\n",
       "    <tr style=\"text-align: right;\">\n",
       "      <th></th>\n",
       "      <th>model</th>\n",
       "      <th>accuracyscore</th>\n",
       "    </tr>\n",
       "  </thead>\n",
       "  <tbody>\n",
       "    <tr>\n",
       "      <th>2</th>\n",
       "      <td>RandomForestClassifier</td>\n",
       "      <td>0.911392</td>\n",
       "    </tr>\n",
       "    <tr>\n",
       "      <th>1</th>\n",
       "      <td>DecisionTreeClassifier</td>\n",
       "      <td>0.898734</td>\n",
       "    </tr>\n",
       "    <tr>\n",
       "      <th>4</th>\n",
       "      <td>kn</td>\n",
       "      <td>0.632911</td>\n",
       "    </tr>\n",
       "    <tr>\n",
       "      <th>5</th>\n",
       "      <td>NB</td>\n",
       "      <td>0.525316</td>\n",
       "    </tr>\n",
       "    <tr>\n",
       "      <th>3</th>\n",
       "      <td>svr</td>\n",
       "      <td>0.500000</td>\n",
       "    </tr>\n",
       "    <tr>\n",
       "      <th>0</th>\n",
       "      <td>logisticRegression</td>\n",
       "      <td>0.487342</td>\n",
       "    </tr>\n",
       "  </tbody>\n",
       "</table>\n",
       "</div>"
      ],
      "text/plain": [
       "                    model  accuracyscore\n",
       "2  RandomForestClassifier       0.911392\n",
       "1  DecisionTreeClassifier       0.898734\n",
       "4                      kn       0.632911\n",
       "5                      NB       0.525316\n",
       "3                     svr       0.500000\n",
       "0      logisticRegression       0.487342"
      ]
     },
     "execution_count": 34,
     "metadata": {},
     "output_type": "execute_result"
    },
    {
     "data": {
      "image/png": "[encoded data removed]",
      "text/plain": [
       "<Figure size 432x288 with 1 Axes>"
      ]
     },
     "metadata": {
      "needs_background": "light"
     },
     "output_type": "display_data"
    }
   ],
   "source": [
    "model=pd.DataFrame({\n",
    "    'model':['logisticRegression','DecisionTreeClassifier','RandomForestClassifier','svr','kn','NB'],\n",
    "    'accuracyscore':[LR,DT,RF,SR,KN,NB]\n",
    "})\n",
    "model\n",
    "sns.barplot(x='accuracyscore',y='model',data=model)\n",
    "model.sort_values(by='accuracyscore',ascending=False)"
   ]
  },
  {
   "cell_type": "code",
   "execution_count": 35,
   "id": "fb9633e9",
   "metadata": {},
   "outputs": [
    {
     "name": "stdout",
     "output_type": "stream",
     "text": [
      "              precision    recall  f1-score   support\n",
      "\n",
      "           0       0.50      0.41      0.45        46\n",
      "           1       0.27      0.50      0.35        16\n",
      "           2       0.72      0.56      0.63        41\n",
      "           3       0.57      0.60      0.58        55\n",
      "\n",
      "    accuracy                           0.53       158\n",
      "   macro avg       0.51      0.52      0.50       158\n",
      "weighted avg       0.56      0.53      0.53       158\n",
      "\n"
     ]
    }
   ],
   "source": [
    "from sklearn.metrics import classification_report\n",
    "print(classification_report(y_test,y_pred))"
   ]
  }
 ],
 "metadata": {
  "kernelspec": {
   "display_name": "Python 3 (ipykernel)",
   "language": "python",
   "name": "python3"
  },
  "language_info": {
   "codemirror_mode": {
    "name": "ipython",
    "version": 3
   },
   "file_extension": ".py",
   "mimetype": "text/x-python",
   "name": "python",
   "nbconvert_exporter": "python",
   "pygments_lexer": "ipython3",
   "version": "3.9.13"
  }
 },
 "nbformat": 4,
 "nbformat_minor": 5
}
